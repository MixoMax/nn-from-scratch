{
 "cells": [
  {
   "cell_type": "code",
   "execution_count": null,
   "metadata": {},
   "outputs": [],
   "source": [
    "import torch\n",
    "from tqdm import tqdm\n",
    "import json"
   ]
  },
  {
   "cell_type": "code",
   "execution_count": null,
   "metadata": {},
   "outputs": [],
   "source": [
    "X_path = \"./mnist_data/t10k-images.idx3-ubyte\"\n",
    "Y_path = \"./mnist_data/t10k-labels.idx1-ubyte\"\n",
    "\n",
    "import numpy as np\n",
    "import struct\n",
    "\n",
    "def read_idx(filename):\n",
    "    with open(filename, 'rb') as f:\n",
    "        zero, data_type, dims = struct.unpack('>HBB', f.read(4))\n",
    "        shape = tuple(struct.unpack('>I', f.read(4))[0] for d in range(dims))\n",
    "        return np.frombuffer(f.read(), dtype=np.uint8).reshape(shape)\n",
    "\n",
    "X = read_idx(X_path)\n",
    "y = read_idx(Y_path)\n",
    "\n",
    "X = X.reshape(X.shape[0], -1)\n",
    "X = X.astype(np.float32) / 255\n",
    "X = torch.from_numpy(X)\n",
    "y = torch.from_numpy(y)\n",
    "print(X.shape, y.shape)\n",
    "\n",
    "train_percentage = 0.9\n",
    "\n",
    "X_train, X_test = X[:int(len(X)*train_percentage)], X[int(len(X)*train_percentage):]\n",
    "y_train, y_test = y[:int(len(y)*train_percentage)], y[int(len(y)*train_percentage):]"
   ]
  },
  {
   "cell_type": "code",
   "execution_count": 68,
   "metadata": {},
   "outputs": [],
   "source": [
    "def model_to_json(model):\n",
    "    model_dict = model.state_dict()\n",
    "    for key in model_dict.keys():\n",
    "        model_dict[key] = model_dict[key].tolist()\n",
    "    return model_dict"
   ]
  },
  {
   "cell_type": "code",
   "execution_count": 81,
   "metadata": {},
   "outputs": [
    {
     "data": {
      "text/plain": [
       "tensor([-0.1514, -0.0687,  0.0044,  0.0327,  0.2049, -0.1485,  0.0893,  0.0492,\n",
       "         0.2144,  0.0345], grad_fn=<ViewBackward0>)"
      ]
     },
     "execution_count": 81,
     "metadata": {},
     "output_type": "execute_result"
    }
   ],
   "source": [
    "# very simple model that uses a variety of Layer types but only ReLu activation\n",
    "input_size = 28*28\n",
    "n_labels = 10\n",
    "\n",
    "class SimpleModel(torch.nn.Module):\n",
    "    def __init__(self):\n",
    "        super(SimpleModel, self).__init__()\n",
    "        \n",
    "        self.layers = [\n",
    "            torch.nn.Linear(input_size, 128),\n",
    "            torch.nn.ReLU(),\n",
    "            \n",
    "            torch.nn.Linear(128, 64),\n",
    "            torch.nn.ReLU(),\n",
    "\n",
    "            # output layer\n",
    "            torch.nn.Linear(64, n_labels)\n",
    "        ]\n",
    "\n",
    "        self.model = torch.nn.Sequential(*self.layers)\n",
    "    \n",
    "    def forward(self, x):\n",
    "        assert x.shape == (input_size,), f\"Expected input shape (784,) but got {x.shape}\"\n",
    "        return self.model(x)\n",
    "\n",
    "model = SimpleModel()\n",
    "model.forward(torch.randn(784))"
   ]
  },
  {
   "cell_type": "code",
   "execution_count": 82,
   "metadata": {},
   "outputs": [
    {
     "name": "stderr",
     "output_type": "stream",
     "text": [
      "100%|██████████| 9000/9000 [00:06<00:00, 1444.76it/s]\n"
     ]
    },
    {
     "name": "stdout",
     "output_type": "stream",
     "text": [
      "Epoch 1/2 - Test accuracy: 0.899\n"
     ]
    },
    {
     "name": "stderr",
     "output_type": "stream",
     "text": [
      "100%|██████████| 9000/9000 [00:06<00:00, 1479.99it/s]\n"
     ]
    },
    {
     "name": "stdout",
     "output_type": "stream",
     "text": [
      "Epoch 2/2 - Test accuracy: 0.918\n"
     ]
    }
   ],
   "source": [
    "# training\n",
    "loss_fn = torch.nn.CrossEntropyLoss()\n",
    "optimizer = torch.optim.Adam(model.parameters(), lr=0.001)\n",
    "\n",
    "n_epochs = 2\n",
    "\n",
    "for epoch in range(n_epochs):\n",
    "    model.train()\n",
    "    for i in tqdm(range(len(X_train))):\n",
    "        optimizer.zero_grad()\n",
    "        y_pred = model(X_train[i])\n",
    "        loss = loss_fn(y_pred.unsqueeze(0), y_train[i].unsqueeze(0))\n",
    "        loss.backward()\n",
    "        optimizer.step()\n",
    "\n",
    "    model.eval()\n",
    "    correct = 0\n",
    "    for i in range(len(X_test)):\n",
    "        y_pred = model(X_test[i])\n",
    "        if torch.argmax(y_pred) == y_test[i]:\n",
    "            correct += 1\n",
    "    print(f\"Epoch {epoch+1}/{n_epochs} - Test accuracy: {correct/len(X_test)}\")\n",
    "\n",
    "with open(\"model_trained.json\", \"w\") as f:\n",
    "    json.dump(model_to_json(model), f, indent=4)\n"
   ]
  }
 ],
 "metadata": {
  "kernelspec": {
   "display_name": "base",
   "language": "python",
   "name": "python3"
  },
  "language_info": {
   "codemirror_mode": {
    "name": "ipython",
    "version": 3
   },
   "file_extension": ".py",
   "mimetype": "text/x-python",
   "name": "python",
   "nbconvert_exporter": "python",
   "pygments_lexer": "ipython3",
   "version": "3.12.3"
  }
 },
 "nbformat": 4,
 "nbformat_minor": 2
}
